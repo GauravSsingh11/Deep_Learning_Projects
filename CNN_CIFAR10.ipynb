{
  "nbformat": 4,
  "nbformat_minor": 0,
  "metadata": {
    "colab": {
      "name": "CNN_CIFAR10.ipynb",
      "provenance": [],
      "collapsed_sections": []
    },
    "kernelspec": {
      "name": "python3",
      "display_name": "Python 3"
    },
    "language_info": {
      "name": "python"
    }
  },
  "cells": [
    {
      "cell_type": "code",
      "execution_count": 1,
      "metadata": {
        "id": "iRJg_L9b0zpT"
      },
      "outputs": [],
      "source": [
        "import tensorflow as tf"
      ]
    },
    {
      "cell_type": "code",
      "source": [
        "from tensorflow.keras.datasets import cifar10\n",
        "(X_train,y_train),(X_test,y_test) = cifar10.load_data()"
      ],
      "metadata": {
        "id": "vijYc8Qr6pNp",
        "colab": {
          "base_uri": "https://localhost:8080/"
        },
        "outputId": "f170c70c-b8e2-4790-fc58-cab23af44255"
      },
      "execution_count": 2,
      "outputs": [
        {
          "output_type": "stream",
          "name": "stdout",
          "text": [
            "Downloading data from https://www.cs.toronto.edu/~kriz/cifar-10-python.tar.gz\n",
            "170500096/170498071 [==============================] - 2s 0us/step\n",
            "170508288/170498071 [==============================] - 2s 0us/step\n"
          ]
        }
      ]
    },
    {
      "cell_type": "code",
      "source": [
        "import random\n",
        "random.seed(0)\n",
        "import warnings\n",
        "warnings.filterwarnings('ignore')"
      ],
      "metadata": {
        "id": "sze-p6qB64Db"
      },
      "execution_count": 3,
      "outputs": []
    },
    {
      "cell_type": "code",
      "source": [
        "#X_train.head()"
      ],
      "metadata": {
        "id": "LP9RAq3DXbmS"
      },
      "execution_count": 4,
      "outputs": []
    },
    {
      "cell_type": "code",
      "source": [
        "print(X_train.shape)\n",
        "print(X_test.shape)\n",
        "print(y_train.shape)\n",
        "print(y_test.shape)"
      ],
      "metadata": {
        "colab": {
          "base_uri": "https://localhost:8080/"
        },
        "id": "XOOOcoqiwCi3",
        "outputId": "465e49dc-a69d-41bd-f2ec-8bbe1d0cae4f"
      },
      "execution_count": 5,
      "outputs": [
        {
          "output_type": "stream",
          "name": "stdout",
          "text": [
            "(50000, 32, 32, 3)\n",
            "(10000, 32, 32, 3)\n",
            "(50000, 1)\n",
            "(10000, 1)\n"
          ]
        }
      ]
    },
    {
      "cell_type": "code",
      "source": [
        "import matplotlib.pyplot as plt\n",
        "%matplotlib inline\n",
        "print(\"Label: {}\".format(y_train[25000]))\n",
        "plt.imshow(X_train[25000],cmap='gray')"
      ],
      "metadata": {
        "colab": {
          "base_uri": "https://localhost:8080/",
          "height": 303
        },
        "id": "upAuLZKawO6V",
        "outputId": "ad26b532-4f3d-4d6e-f351-8511c16b3d7a"
      },
      "execution_count": 6,
      "outputs": [
        {
          "output_type": "stream",
          "name": "stdout",
          "text": [
            "Label: [6]\n"
          ]
        },
        {
          "output_type": "execute_result",
          "data": {
            "text/plain": [
              "<matplotlib.image.AxesImage at 0x7fb7aced7b50>"
            ]
          },
          "metadata": {},
          "execution_count": 6
        },
        {
          "output_type": "display_data",
          "data": {
            "text/plain": [
              "<Figure size 432x288 with 1 Axes>"
            ],
            "image/png": "[encoded data removed]"
          },
          "metadata": {
            "needs_background": "light"
          }
        }
      ]
    },
    {
      "cell_type": "code",
      "source": [
        "X_train = X_train.reshape(X_train.shape[0],32,32,3)\n",
        "X_test = X_test.reshape(X_test.shape[0],32,32,3)"
      ],
      "metadata": {
        "id": "q-jcguRSwoO_"
      },
      "execution_count": 7,
      "outputs": []
    },
    {
      "cell_type": "code",
      "source": [
        "X_train = X_train.astype('float32')\n",
        "X_test = X_test.astype('float32')\n",
        "X_train = X_train/255\n",
        "X_test = X_test/255"
      ],
      "metadata": {
        "id": "kSqT9BaLxI1B"
      },
      "execution_count": 8,
      "outputs": []
    },
    {
      "cell_type": "code",
      "source": [
        "from tensorflow.keras.utils import to_categorical"
      ],
      "metadata": {
        "id": "FtS0YYMh1BNm"
      },
      "execution_count": 9,
      "outputs": []
    },
    {
      "cell_type": "code",
      "source": [
        "y_train = to_categorical(y_train,num_classes=10)\n",
        "y_test = to_categorical(y_test,num_classes=10)"
      ],
      "metadata": {
        "id": "VcIdhO2i1IUI"
      },
      "execution_count": 10,
      "outputs": []
    },
    {
      "cell_type": "code",
      "source": [
        "y_train[0]"
      ],
      "metadata": {
        "colab": {
          "base_uri": "https://localhost:8080/"
        },
        "id": "mJRTBDS41zLf",
        "outputId": "ffd0b496-fe44-451a-856f-ba2c327a325e"
      },
      "execution_count": 11,
      "outputs": [
        {
          "output_type": "execute_result",
          "data": {
            "text/plain": [
              "array([0., 0., 0., 0., 0., 0., 1., 0., 0., 0.], dtype=float32)"
            ]
          },
          "metadata": {},
          "execution_count": 11
        }
      ]
    },
    {
      "cell_type": "code",
      "source": [
        "from tensorflow.keras.layers import Conv2D, Flatten, Dense, MaxPooling2D, Dropout\n",
        "from tensorflow.keras.models import Sequential"
      ],
      "metadata": {
        "id": "frA-JrGn2N4i"
      },
      "execution_count": 12,
      "outputs": []
    },
    {
      "cell_type": "code",
      "source": [
        "model = Sequential()\n",
        "model.add(Conv2D(filters=32,kernel_size=3,activation='relu',input_shape=(32,32,3)))\n",
        "model.add(Conv2D(filters=32,kernel_size=3,activation='relu'))\n",
        "model.add(Conv2D(filters=32,kernel_size=3,activation='relu'))\n",
        "model.add(MaxPooling2D(pool_size=(2,2)))\n",
        "model.add(Dropout(rate=0.2))\n",
        "model.add(Conv2D(filters=32,kernel_size=3,activation='relu'))\n",
        "model.add(MaxPooling2D(pool_size=(2,2)))\n",
        "model.add(Dropout(rate=0.2))\n",
        "model.add(Flatten())\n",
        "model.add(Dense(128,activation='relu'))\n",
        "model.add(Dense(10,activation='softmax'))"
      ],
      "metadata": {
        "id": "7bMWOl2b2SnK"
      },
      "execution_count": 16,
      "outputs": []
    },
    {
      "cell_type": "code",
      "source": [
        "model.compile(optimizer='adam',loss='categorical_crossentropy',metrics=['accuracy'])"
      ],
      "metadata": {
        "id": "4ubWJoK92g8-"
      },
      "execution_count": 17,
      "outputs": []
    },
    {
      "cell_type": "code",
      "source": [
        "model.fit(x=X_train,y=y_train,batch_size=32,epochs=10,validation_data=(X_test,y_test))"
      ],
      "metadata": {
        "colab": {
          "base_uri": "https://localhost:8080/"
        },
        "id": "gqDgD-6Z2nOn",
        "outputId": "6e1a4e93-8a74-4ceb-b550-04d584b7a953"
      },
      "execution_count": 20,
      "outputs": [
        {
          "output_type": "stream",
          "name": "stdout",
          "text": [
            "Epoch 1/10\n",
            "1563/1563 [==============================] - 207s 133ms/step - loss: 1.5616 - accuracy: 0.4281 - val_loss: 1.3355 - val_accuracy: 0.5193\n",
            "Epoch 2/10\n",
            "1563/1563 [==============================] - 207s 133ms/step - loss: 1.2445 - accuracy: 0.5551 - val_loss: 1.1411 - val_accuracy: 0.6010\n",
            "Epoch 3/10\n",
            "1563/1563 [==============================] - 209s 133ms/step - loss: 1.0804 - accuracy: 0.6169 - val_loss: 0.9977 - val_accuracy: 0.6479\n",
            "Epoch 4/10\n",
            "1563/1563 [==============================] - 209s 134ms/step - loss: 0.9629 - accuracy: 0.6606 - val_loss: 0.9372 - val_accuracy: 0.6712\n",
            "Epoch 5/10\n",
            "1563/1563 [==============================] - 210s 135ms/step - loss: 0.8883 - accuracy: 0.6892 - val_loss: 0.8715 - val_accuracy: 0.6956\n",
            "Epoch 6/10\n",
            "1563/1563 [==============================] - 210s 134ms/step - loss: 0.8416 - accuracy: 0.7046 - val_loss: 0.9109 - val_accuracy: 0.6917\n",
            "Epoch 7/10\n",
            "1563/1563 [==============================] - 210s 134ms/step - loss: 0.8014 - accuracy: 0.7170 - val_loss: 0.8279 - val_accuracy: 0.7123\n",
            "Epoch 8/10\n",
            "1563/1563 [==============================] - 211s 135ms/step - loss: 0.7627 - accuracy: 0.7324 - val_loss: 0.8170 - val_accuracy: 0.7221\n",
            "Epoch 9/10\n",
            "1563/1563 [==============================] - 213s 137ms/step - loss: 0.7317 - accuracy: 0.7426 - val_loss: 0.8028 - val_accuracy: 0.7289\n",
            "Epoch 10/10\n",
            "1563/1563 [==============================] - 213s 136ms/step - loss: 0.7080 - accuracy: 0.7515 - val_loss: 0.8048 - val_accuracy: 0.7236\n"
          ]
        },
        {
          "output_type": "execute_result",
          "data": {
            "text/plain": [
              "<keras.callbacks.History at 0x7fb7a1844910>"
            ]
          },
          "metadata": {},
          "execution_count": 20
        }
      ]
    },
    {
      "cell_type": "code",
      "source": [
        "model.evaluate(X_test,y_test)"
      ],
      "metadata": {
        "colab": {
          "base_uri": "https://localhost:8080/"
        },
        "id": "6OsOsdgI2sv7",
        "outputId": "c7be7617-7785-4c28-d117-15cd0eaa1fa3"
      },
      "execution_count": 21,
      "outputs": [
        {
          "output_type": "stream",
          "name": "stdout",
          "text": [
            "313/313 [==============================] - 11s 34ms/step - loss: 0.8048 - accuracy: 0.7236\n"
          ]
        },
        {
          "output_type": "execute_result",
          "data": {
            "text/plain": [
              "[0.8048160076141357, 0.7235999703407288]"
            ]
          },
          "metadata": {},
          "execution_count": 21
        }
      ]
    },
    {
      "cell_type": "code",
      "source": [
        ""
      ],
      "metadata": {
        "id": "PRN_tLP1Tz5z"
      },
      "execution_count": null,
      "outputs": []
    }
  ]
}